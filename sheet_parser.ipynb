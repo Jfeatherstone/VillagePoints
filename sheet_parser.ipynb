{
 "cells": [
  {
   "cell_type": "code",
   "execution_count": null,
   "metadata": {},
   "outputs": [],
   "source": [
    "!sudo pip install pandas xlrd"
   ]
  },
  {
   "cell_type": "code",
   "execution_count": 3,
   "metadata": {},
   "outputs": [],
   "source": [
    "import pandas as pd\n",
    "from datetime import date\n",
    "from datetime import datetime"
   ]
  },
  {
   "cell_type": "code",
   "execution_count": 13,
   "metadata": {},
   "outputs": [],
   "source": [
    "def log(string, alsoPrint):        \n",
    "    if alsoPrint:\n",
    "        print(string)"
   ]
  },
  {
   "cell_type": "code",
   "execution_count": 51,
   "metadata": {},
   "outputs": [],
   "source": [
    "def parseSheet(sheetFile):\n",
    "    \n",
    "    # The test file we will be working on\n",
    "    #sheetName = \"Career Studio Takeover.xlsx\"\n",
    "    #try:\n",
    "        # Load in the excel file using pandas\n",
    "    file = pd.read_excel(sheetFile, parse_dates=True)\n",
    "    #except:\n",
    "    #    log(f'File {sheetName} not found!', debugMode)\n",
    "    #    return None\n",
    "    \n",
    "    #print(file.columns)\n",
    "\n",
    "    # We can't expect that everyone will format the name exactly as it should be,\n",
    "    # so we want to identify what each header is actually called\n",
    "    # Below we have a list of words that should show up in one way or another for each category\n",
    "    keywords = {'Student ID':[\"id\", 'student', 'ncsu'],\n",
    "                'Event Name':['event', 'program', 'name'],\n",
    "                'Student Name':['name', 'first'],\n",
    "                'Village Points':['village', 'points', 'vp'],\n",
    "                'Hosts':['host', 'fellow', 'leader'],\n",
    "                'Date':['date', 'day', 'event', 'program']}\n",
    "    actualKeywords = {}\n",
    "\n",
    "    # These are characters that may show up that we don't want to influence the identification process\n",
    "    arbitraryChars = [':', '(', ')', '[', ']', '{', '}']\n",
    "\n",
    "    for header in file.columns:\n",
    "        # Make it lowercase\n",
    "        currHeader = header.lower()\n",
    "\n",
    "        # We want to ignore columns that don't have headers\n",
    "        if 'Unnamed' in header:\n",
    "            continue\n",
    "\n",
    "        # Remove semicolons\n",
    "        for c in arbitraryChars:\n",
    "            currHeader = currHeader.replace(c, '')\n",
    "\n",
    "        #print(currHeader)\n",
    "\n",
    "        qualifierMatches = {}\n",
    "        i = 0\n",
    "        for keyword, qualifiers in keywords.items():\n",
    "            qualifierMatches[keyword] = 0\n",
    "            for q in qualifiers:\n",
    "                if q in currHeader:\n",
    "                    qualifierMatches[keyword] = qualifierMatches[keyword] + 1\n",
    "\n",
    "            # This is kinda an obscure way of weighting things, but it seems to work for now\n",
    "            qualifierMatches[keyword] = float(qualifierMatches[keyword]) / (float(len(currHeader.split())) * float(len(keywords[keyword])))\n",
    "            i = i + 1\n",
    "\n",
    "        # Now we want to find which index of qualifierMatches has the highest value, which will become the actualKeyword\n",
    "        key = max(qualifierMatches, key=qualifierMatches.get)\n",
    "        #print(key)\n",
    "        actualKeywords[key] = header\n",
    "\n",
    "        #print(qualifierMatches)\n",
    "\n",
    "    #print(actualKeywords)\n",
    "\n",
    "    # We now know where all of our information is, so we should start grabbing it\n",
    "    \n",
    "    \n",
    "    villagePoints = None\n",
    "    # We now know where all of our information is, so we should start grabbing it\n",
    "    possibleVillagePoints = file[actualKeywords['Village Points']].dropna().values.tolist()\n",
    "    #print(possibleVillagePoints)\n",
    "    \n",
    "    if isinstance(possibleVillagePoints, list):\n",
    "        if len(possibleVillagePoints) == 1:\n",
    "            villagePoints = possibleVillagePoints[0]\n",
    "            log(f\"Found value for village points: {villagePoints} in file {sheetFile[0]} ({sheetFile[2]})\", debugMode)\n",
    "        elif len(possibleVillagePoints) > 1:\n",
    "            log(f\"Warning: more than one populated cell under header {actualKeywords['VillagePoints']}; attempting to take first value\", debugMode)\n",
    "            villagePoints = possibleVillagePoints[0]\n",
    "            log(f\"Found value for village points: {villagePoints} in file {sheetFile[0]} ({sheetFile[2]})\", debugMode)\n",
    "        else:\n",
    "            log(f\"ERROR: Village point value for {sheetFile[0]} ({sheetFile[2]}) not specified, ignoring this file!\", debugMode)\n",
    "            return None\n",
    "    else:\n",
    "        villagePoints = possibleVillagePoints\n",
    "        log(f\"Found value for village points: {villagePoints} in file {sheetFile[0]} ({sheetFile[2]})\", debugMode)\n",
    "\n",
    "    eventDate = None\n",
    "    # Find our possible dates\n",
    "    \n",
    "    print(file[actualKeywords['Date']].dropna().dt.strftime('%m/%d/%Y').values.tolist())\n",
    "    \n",
    "    possibleDates = file[actualKeywords['Date']].dropna().values.tolist()\n",
    "    #print(possibleDates)\n",
    "        \n",
    "    if isinstance(possibleDates, list):\n",
    "        if len(possibleDates) == 1:\n",
    "            eventDate = possibleDates[0]\n",
    "            log(f\"Found value for event date: {eventDate} in file {sheetFile[0]} ({sheetFile[2]})\", debugMode)\n",
    "        elif len(possibleDates) > 1:\n",
    "            log(f\"Warning: more than one populated cell under header {actualKeywords['Date']}; attempting to take first value\", debugMode)\n",
    "            eventDate = possibleDates[0]\n",
    "            log(f\"Found value for event date: {eventDate} in file {sheetFile[0]} ({sheetFile[2]})\", debugMode)\n",
    "\n",
    "        else:\n",
    "            log(f\"ERROR: Event date for {sheetFile[0]} ({sheetFile[2]}) not specified, ignoring this file!\", debugMode)\n",
    "            return None\n",
    "    else:\n",
    "        eventDate = possibleDates\n",
    "        log(f\"Found value for event date: {eventDate} in file {sheetFile[0]} ({sheetFile[2]})\", debugMode)\n",
    "    \n",
    "    \n",
    "    hosts = None\n",
    "    possibleHosts = file[actualKeywords['Hosts']].dropna().values.tolist()\n",
    "    #print(possibleHosts)\n",
    "    \n",
    "    if isinstance(possibleHosts, list):\n",
    "        # We can have more than one host, so this is alright to have more than one cell populated\n",
    "        if len(possibleHosts) >= 1:\n",
    "            hosts = possibleHosts[0]\n",
    "            log(f\"Found value for hosts: {hosts} in file {sheetFile[0]} ({sheetFile[2]})\", debugMode)\n",
    "        else:\n",
    "            log(f\"ERROR: Hosts for {sheetFile[0]} ({sheetFile[2]}) not specified, ignoring this file!\", debugMode)\n",
    "            return None\n",
    "    else:\n",
    "        hosts = possibleHosts\n",
    "        log(f\"Found value for hosts: {hosts} in file {sheetFile[0]} ({sheetFile[2]})\", debugMode)\n",
    "\n",
    "    eventName = None\n",
    "    possibleNames = file[actualKeywords['Event Name']].dropna().values.tolist()\n",
    "    #print(possibleNames)\n",
    "    \n",
    "    if isinstance(possibleNames, list):\n",
    "        if len(possibleNames) == 1:\n",
    "            eventName = possibleNames[0]\n",
    "            log(f\"Found value for event name: {eventName} in file {sheetFile[0]} ({sheetFile[2]})\", debugMode)\n",
    "        elif len(possibleNames) > 1:\n",
    "            log(f\"Warning: more than one populated cell under header {actualKeywords['Event Name']}; attempting to take first value\", debugMode)\n",
    "            eventName = possibleNames[0]\n",
    "            log(f\"Found value for event date: {eventName} in file {sheetFile[0]} ({sheetFile[2]})\", debugMode)\n",
    "        else:\n",
    "            log(f\"ERROR: Event name for {sheetFile[0]} ({sheetFile[2]}) not specified, ignoring this file!\", debugMode)\n",
    "            return None\n",
    "    else:\n",
    "        eventName = possibleNames\n",
    "        log(f\"Found value for event name: {eventName} in file {sheetFile[0]} ({sheetFile[2]})\", debugMode)\n",
    "\n",
    "    print(eventDate)\n",
    "    print(pd.datetime(eventDate))\n",
    "        \n",
    "    # Create a struct for the event\n",
    "    event = Event(eventName, eventDate, villagePoints, hosts, sheetFile[1])\n",
    "    \n",
    "    #print([villagePoints, eventDate, hosts, eventName])\n",
    "\n",
    "    students = file[actualKeywords['Student ID']].dropna().values.tolist()\n",
    "    #print(students)\n",
    "    \n",
    "    \n",
    "    # Now that we have all of the information about the event, we should return all of the students who atended and the information about the event\n",
    "    return [event, students]"
   ]
  },
  {
   "cell_type": "code",
   "execution_count": 52,
   "metadata": {},
   "outputs": [
    {
     "name": "stdout",
     "output_type": "stream",
     "text": [
      "Found value for village points: 1.0 in file 2 (2)\n",
      "['01/01/2020']\n",
      "Found value for event date: 1577836800000000000 in file 2 (2)\n",
      "Found value for hosts: Kip/Jack in file 2 (2)\n",
      "Found value for event name: Career Studio Takeover in file 2 (2)\n",
      "1577836800000000000\n"
     ]
    },
    {
     "ename": "OverflowError",
     "evalue": "signed integer is greater than maximum",
     "output_type": "error",
     "traceback": [
      "\u001b[0;31m---------------------------------------------------------------------------\u001b[0m",
      "\u001b[0;31mOverflowError\u001b[0m                             Traceback (most recent call last)",
      "\u001b[0;32m<ipython-input-52-d496acd4d6d2>\u001b[0m in \u001b[0;36m<module>\u001b[0;34m\u001b[0m\n\u001b[1;32m      1\u001b[0m \u001b[0mdebugMode\u001b[0m \u001b[0;34m=\u001b[0m \u001b[0;32mTrue\u001b[0m\u001b[0;34m\u001b[0m\u001b[0;34m\u001b[0m\u001b[0m\n\u001b[0;32m----> 2\u001b[0;31m \u001b[0mparseSheet\u001b[0m\u001b[0;34m(\u001b[0m\u001b[0;34m'2020-01-29_Career Studio Takeover.xlsx'\u001b[0m\u001b[0;34m)\u001b[0m\u001b[0;34m\u001b[0m\u001b[0;34m\u001b[0m\u001b[0m\n\u001b[0m",
      "\u001b[0;32m<ipython-input-51-0ce2a4d16c2d>\u001b[0m in \u001b[0;36mparseSheet\u001b[0;34m(sheetFile)\u001b[0m\n\u001b[1;32m    145\u001b[0m \u001b[0;34m\u001b[0m\u001b[0m\n\u001b[1;32m    146\u001b[0m     \u001b[0mprint\u001b[0m\u001b[0;34m(\u001b[0m\u001b[0meventDate\u001b[0m\u001b[0;34m)\u001b[0m\u001b[0;34m\u001b[0m\u001b[0;34m\u001b[0m\u001b[0m\n\u001b[0;32m--> 147\u001b[0;31m     \u001b[0mprint\u001b[0m\u001b[0;34m(\u001b[0m\u001b[0mpd\u001b[0m\u001b[0;34m.\u001b[0m\u001b[0mdatetime\u001b[0m\u001b[0;34m(\u001b[0m\u001b[0meventDate\u001b[0m\u001b[0;34m)\u001b[0m\u001b[0;34m)\u001b[0m\u001b[0;34m\u001b[0m\u001b[0;34m\u001b[0m\u001b[0m\n\u001b[0m\u001b[1;32m    148\u001b[0m \u001b[0;34m\u001b[0m\u001b[0m\n\u001b[1;32m    149\u001b[0m     \u001b[0;31m# Create a struct for the event\u001b[0m\u001b[0;34m\u001b[0m\u001b[0;34m\u001b[0m\u001b[0;34m\u001b[0m\u001b[0m\n",
      "\u001b[0;31mOverflowError\u001b[0m: signed integer is greater than maximum"
     ]
    }
   ],
   "source": [
    "debugMode = True\n",
    "parseSheet('2020-01-29_Career Studio Takeover.xlsx')"
   ]
  },
  {
   "cell_type": "code",
   "execution_count": 30,
   "metadata": {},
   "outputs": [
    {
     "ename": "NameError",
     "evalue": "name 'eventDate' is not defined",
     "output_type": "error",
     "traceback": [
      "\u001b[0;31m---------------------------------------------------------------------------\u001b[0m",
      "\u001b[0;31mNameError\u001b[0m                                 Traceback (most recent call last)",
      "\u001b[0;32m<ipython-input-30-0a97d9f792a3>\u001b[0m in \u001b[0;36m<module>\u001b[0;34m\u001b[0m\n\u001b[0;32m----> 1\u001b[0;31m \u001b[0mprint\u001b[0m\u001b[0;34m(\u001b[0m\u001b[0meventDate\u001b[0m\u001b[0;34m)\u001b[0m\u001b[0;34m\u001b[0m\u001b[0;34m\u001b[0m\u001b[0m\n\u001b[0m",
      "\u001b[0;31mNameError\u001b[0m: name 'eventDate' is not defined"
     ]
    }
   ],
   "source": []
  },
  {
   "cell_type": "code",
   "execution_count": null,
   "metadata": {},
   "outputs": [],
   "source": [
    "? list.remove"
   ]
  },
  {
   "cell_type": "code",
   "execution_count": 28,
   "metadata": {},
   "outputs": [
    {
     "name": "stdout",
     "output_type": "stream",
     "text": [
      "3168\n"
     ]
    }
   ],
   "source": [
    "print(3424-256)"
   ]
  },
  {
   "cell_type": "code",
   "execution_count": null,
   "metadata": {},
   "outputs": [],
   "source": []
  }
 ],
 "metadata": {
  "kernelspec": {
   "display_name": "Python 3",
   "language": "python",
   "name": "python3"
  },
  "language_info": {
   "codemirror_mode": {
    "name": "ipython",
    "version": 3
   },
   "file_extension": ".py",
   "mimetype": "text/x-python",
   "name": "python",
   "nbconvert_exporter": "python",
   "pygments_lexer": "ipython3",
   "version": "3.8.0"
  }
 },
 "nbformat": 4,
 "nbformat_minor": 4
}
