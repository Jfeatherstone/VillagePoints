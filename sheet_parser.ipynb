{
 "cells": [
  {
   "cell_type": "code",
   "execution_count": null,
   "metadata": {},
   "outputs": [],
   "source": [
    "!sudo pip install pandas xlrd"
   ]
  },
  {
   "cell_type": "code",
   "execution_count": null,
   "metadata": {},
   "outputs": [],
   "source": [
    "def log(string, alsoPrint):\n",
    "    with open(logFilePath, \"w\") as logFileBuffer:\n",
    "        logFileBuffer.write(f\"[{datetime.now()}]:  {string}\")\n",
    "        \n",
    "    if alsoPrint:\n",
    "        print(string)"
   ]
  },
  {
   "cell_type": "code",
   "execution_count": null,
   "metadata": {},
   "outputs": [],
   "source": [
    "## This file will test the capability to read in attendance sheets\n",
    "# We use the pandas library to read in data from excel files\n",
    "import pandas as pd\n",
    "\n",
    "def parseSheet(sheetName):\n",
    "    \n",
    "    debug = True\n",
    "    \n",
    "    # The test file we will be working on\n",
    "    #sheetName = \"Career Studio Takeover.xlsx\"\n",
    "\n",
    "    try:\n",
    "        # Load in the excel file using pandas\n",
    "        file = pd.read_excel(sheetName)\n",
    "    except:\n",
    "        print(f'File {sheetName} not found!')\n",
    "        return\n",
    "    \n",
    "    #print(file.columns)\n",
    "\n",
    "    # We can't expect that everyone will format the name exactly as it should be,\n",
    "    # so we want to identify what each header is actually called\n",
    "    # Below we have a list of words that should show up in one way or another for each category\n",
    "    keywords = {'Student ID':[\"id\", 'student', 'ncsu'],\n",
    "                'Event Name':['event', 'program', 'name'],\n",
    "                'Student Name':['name', 'first'],\n",
    "                'Village Points':['village', 'points', 'vp'],\n",
    "                'Hosts':['host', 'fellow', 'leader'],\n",
    "                'Date':['date', 'day', 'event', 'program']}\n",
    "    actualKeywords = {}\n",
    "\n",
    "    # These are characters that may show up that we don't want to influence the identification process\n",
    "    arbitraryChars = [':', '(', ')', '[', ']', '{', '}']\n",
    "\n",
    "    for header in file.columns:\n",
    "        # Make it lowercase\n",
    "        currHeader = header.lower()\n",
    "\n",
    "        # We want to ignore columns that don't have headers\n",
    "        if 'Unnamed' in header:\n",
    "            continue\n",
    "\n",
    "        # Remove semicolons\n",
    "        for c in arbitraryChars:\n",
    "            currHeader = currHeader.replace(c, '')\n",
    "\n",
    "        #print(currHeader)\n",
    "\n",
    "        qualifierMatches = {}\n",
    "        i = 0\n",
    "        for keyword, qualifiers in keywords.items():\n",
    "            qualifierMatches[keyword] = 0\n",
    "            for q in qualifiers:\n",
    "                if q in currHeader:\n",
    "                    qualifierMatches[keyword] = qualifierMatches[keyword] + 1\n",
    "\n",
    "            # This is kinda an obscure way of weighting things, but it seems to work for now\n",
    "            qualifierMatches[keyword] = float(qualifierMatches[keyword]) / (float(len(currHeader.split())) * float(len(keywords[keyword])))\n",
    "            i = i + 1\n",
    "\n",
    "        # Now we want to find which index of qualifierMatches has the highest value, which will become the actualKeyword\n",
    "        key = max(qualifierMatches, key=qualifierMatches.get)\n",
    "        #print(key)\n",
    "        actualKeywords[key] = header\n",
    "\n",
    "        #print(qualifierMatches)\n",
    "\n",
    "    #print(actualKeywords)\n",
    "\n",
    "    # We now know where all of our information is, so we should start grabbing it\n",
    "    possibleVillagePoints = file[actualKeywords['Village Points']].values.tolist()\n",
    "    # This removes all instance of 'nan' ie. empty cells\n",
    "    possibleVillagePoints = possibleVillagePoints[possibleVillagePoints == possibleVillagePoints]\n",
    "    #possibleVillagePoints = possibleVillagePoints.remove(None)\n",
    "    print(possibleVillagePoints)\n",
    "    \n",
    "    possibleDates = file[actualKeywords['Date']].values.tolist()\n",
    "    print(possibleDates)\n",
    "\n",
    "    while None in possibleDates:\n",
    "        possibleDates.remove(None)\n",
    "    print(possibleDates)\n",
    "    \n",
    "    \n",
    "    possibleHosts = file[actualKeywords['Hosts']].values.tolist()\n",
    "    print(possibleHosts)\n",
    "    # This removes all instance of 'nan' ie. empty cells\n",
    "    possibleHosts = possibleHosts[not possibleHosts == possibleHosts]\n",
    "    print(possibleHosts)\n",
    "\n",
    "    possibleNames = file[actualKeywords['Event Name']].values.tolist()\n",
    "    print(possibleNames)\n",
    "    # This removes all instance of 'nan' ie. empty cells\n",
    "    possibleNames = possibleNames[not possibleNames == possibleNames]\n",
    "    print(possibleNames)\n",
    "\n",
    "    villagePoints = file[actualKeywords['Village Points']][0]\n",
    "    eventDate = possibleDates[0]\n",
    "    hosts = file[actualKeywords['Hosts']][0]\n",
    "    eventName = file[actualKeywords['Event Name']][0]\n",
    "\n",
    "    \n",
    "    print([villagePoints, eventDate, hosts, eventName])\n",
    "\n",
    "    students = file[actualKeywords['Student ID']]\n",
    "    print(students)\n",
    "    \n",
    "    # Now that we have all of the information about the event, we should return all of the students who atended and the information about the event\n",
    "    return [villagePoints, eventDate, hosts, eventName, students]\n"
   ]
  },
  {
   "cell_type": "code",
   "execution_count": null,
   "metadata": {},
   "outputs": [],
   "source": [
    "parseSheet('Career Studio Takeover.xlsx')"
   ]
  },
  {
   "cell_type": "code",
   "execution_count": null,
   "metadata": {},
   "outputs": [],
   "source": [
    "import math"
   ]
  },
  {
   "cell_type": "code",
   "execution_count": null,
   "metadata": {},
   "outputs": [],
   "source": [
    "? list.remove"
   ]
  },
  {
   "cell_type": "code",
   "execution_count": null,
   "metadata": {},
   "outputs": [],
   "source": []
  }
 ],
 "metadata": {
  "kernelspec": {
   "display_name": "Python 3",
   "language": "python",
   "name": "python3"
  },
  "language_info": {
   "codemirror_mode": {
    "name": "ipython",
    "version": 3
   },
   "file_extension": ".py",
   "mimetype": "text/x-python",
   "name": "python",
   "nbconvert_exporter": "python",
   "pygments_lexer": "ipython3",
   "version": "3.8.0"
  }
 },
 "nbformat": 4,
 "nbformat_minor": 4
}
