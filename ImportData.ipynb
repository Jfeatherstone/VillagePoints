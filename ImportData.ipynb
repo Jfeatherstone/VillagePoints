{
 "cells": [
  {
   "cell_type": "code",
   "execution_count": null,
   "metadata": {},
   "outputs": [],
   "source": [
    "import numpy as np\n",
    "import pandas as pd\n",
    "import csv\n",
    "from collections import namedtuple"
   ]
  },
  {
   "cell_type": "code",
   "execution_count": null,
   "metadata": {},
   "outputs": [],
   "source": [
    "# Big boy things\n",
    "\n",
    "# Seperator used for main columns in database file\n",
    "delimiter = \"|\"\n",
    "# Seperator used for storing event values\n",
    "event_delimiter = \"^\"\n",
    "# Seperator used for storing multiple events\n",
    "event_list_delimiter = \"*\"\n",
    "# Possible affiliations for events\n",
    "event_affiliations = {\"QA\":\"QAC\", \"FE\":\"Fellows\", \"RA\":\"RAs\", \"OT\":\"Other\"}\n",
    "# Allow events worth more than 2 points\n",
    "allow_higher_points = False\n",
    "# Points max (only relevant if the above variable is false)\n",
    "point_max = 2\n",
    "\n",
    "# Create our student struct\n",
    "Student = namedtuple(\"Student\", \"first_name last_name student_id unity_id events points\")\n",
    "# And an event struct\n",
    "Event = namedtuple(\"Event\", \"name points affiliation\")"
   ]
  },
  {
   "cell_type": "code",
   "execution_count": null,
   "metadata": {},
   "outputs": [],
   "source": [
    "# Import the village points sheet as a data set\n",
    "data = open(\"test.csv\")\n",
    "\n",
    "excel = pd.read_excel(\"september_points.xlsx\")\n",
    "\n",
    "reader = csv.reader(data, delimiter=delimiter)"
   ]
  },
  {
   "cell_type": "code",
   "execution_count": null,
   "metadata": {},
   "outputs": [],
   "source": [
    "def parseEvent(string):\n",
    "    # Events should be given in the form: \"EventName{event_delimiter}NumPoints{event_delimiter}Affiliation\"\n",
    "    # Where: \n",
    "    # {event_delimiter} is defined above\n",
    "    # NumPoints = 1 or 2\n",
    "    # Affiliation = QC, FE, RA, OT (Qac, Fellows, RAs, Other)\n",
    "    components = string.split(event_delimiter)\n",
    "    \n",
    "    if len(components) != 3:\n",
    "        print(f\"Invalid event string provided (value = \\'{string}\\')\")\n",
    "        return [\"INVALID\", 0, \"OT\"]\n",
    "    \n",
    "    name = components[0]\n",
    "    points = components[1]\n",
    "    affil = components[2]\n",
    "        \n",
    "    # Make sure the points are valid\n",
    "    try:\n",
    "        num_points = int(points)\n",
    "        if not allow_higher_points and num_points > point_max:\n",
    "            print(f\"Point value above maximum, limit set to {point_max}!\")\n",
    "            raise Exception()\n",
    "            \n",
    "        if num_points <= 0:\n",
    "            raise Exception()\n",
    "            \n",
    "        points = num_points\n",
    "    except:\n",
    "        print(f\"Invalid point value provided for event \\'{name}\\' (value = \\'{points}\\'), setting to 1!\")\n",
    "        points = 1\n",
    "    \n",
    "    # Make sure the affiliation makes sense\n",
    "    if affil not in event_affiliations:\n",
    "        print(f\"Invalid affiliation provided for event \\'{name}\\' (value = \\'{affil}\\'), setting to \\'Other\\'!\")\n",
    "        affil = \"OT\"\n",
    "    \n",
    "    return Event(name=name, points=points, affiliation=affil)\n",
    "\n",
    "def parseEventListString(string):\n",
    "    # This essentially just uses the previous method several times, based on another delimiter\n",
    "    event_strings = string.split(event_list_delimiter)\n",
    "    events = [\"\" for i in range(len(event_strings))]\n",
    "    for i in range(len(event_strings)):\n",
    "        events[i] = parseEvent(event_strings[i])\n",
    "\n",
    "    return events"
   ]
  },
  {
   "cell_type": "code",
   "execution_count": null,
   "metadata": {},
   "outputs": [],
   "source": [
    "def parseStudent(row):\n",
    "    # Takes in a string of a row, and returns a student struct\n",
    "    last_name = row[0]\n",
    "    first_name = row[1]\n",
    "    student_id = row[2]\n",
    "    unity_id = row[3]\n",
    "    events = row[4]\n",
    "    points = row[5]\n",
    "    \n",
    "    return Student(first_name=first_name, last_name=last_name, student_id=student_id, unity_id=unity_id, events=events, points=points)"
   ]
  },
  {
   "cell_type": "code",
   "execution_count": null,
   "metadata": {
    "jupyter": {
     "source_hidden": true
    }
   },
   "outputs": [],
   "source": [
    "# Event tests\n",
    "single_event_tests = [\"Event 1^1^FE\", \"Event 2^2^RA\", \"Event 3^3^QA\", \"\"]\n",
    "for s in single_event_tests:\n",
    "    print(parseEvent(s))\n",
    "\n",
    "list_event_test = \"*\".join(single_event_tests)[0:-1]\n",
    "print(parseEventListString(list_event_test))"
   ]
  },
  {
   "cell_type": "code",
   "execution_count": null,
   "metadata": {},
   "outputs": [],
   "source": [
    "for row in reader:\n",
    "    print(parseStudent(row))"
   ]
  },
  {
   "cell_type": "code",
   "execution_count": null,
   "metadata": {},
   "outputs": [],
   "source": []
  }
 ],
 "metadata": {
  "kernelspec": {
   "display_name": "Python 3",
   "language": "python",
   "name": "python3"
  },
  "language_info": {
   "codemirror_mode": {
    "name": "ipython",
    "version": 3
   },
   "file_extension": ".py",
   "mimetype": "text/x-python",
   "name": "python",
   "nbconvert_exporter": "python",
   "pygments_lexer": "ipython3",
   "version": "3.8.0"
  }
 },
 "nbformat": 4,
 "nbformat_minor": 4
}
